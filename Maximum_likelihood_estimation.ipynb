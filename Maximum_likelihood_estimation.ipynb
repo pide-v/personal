{
  "nbformat": 4,
  "nbformat_minor": 0,
  "metadata": {
    "colab": {
      "provenance": []
    },
    "kernelspec": {
      "name": "python3",
      "display_name": "Python 3"
    },
    "language_info": {
      "name": "python"
    }
  },
  "cells": [
    {
      "cell_type": "markdown",
      "source": [
        "In this notebook I will try to obtain the parameters of a normal distribution using the maximum likelihood method, given a known normal distribution.\n"
      ],
      "metadata": {
        "id": "hPmS2ZqbAQRu"
      }
    },
    {
      "cell_type": "code",
      "execution_count": 14,
      "metadata": {
        "id": "xks57HBxAM9b"
      },
      "outputs": [],
      "source": [
        "import numpy as np\n",
        "from scipy.optimize import fmin\n",
        "import math"
      ]
    },
    {
      "cell_type": "markdown",
      "source": [
        "The real distribution is 𝒩(μ, σ). The objective is to estimate these parameters starting from the p_data drawn from the distribution."
      ],
      "metadata": {
        "id": "k2P_vd4rBDJ-"
      }
    },
    {
      "cell_type": "code",
      "source": [
        "p_data = np.random.normal(5, 0.5, 100)"
      ],
      "metadata": {
        "id": "Zl1HWAOkAxn7"
      },
      "execution_count": 90,
      "outputs": []
    },
    {
      "cell_type": "markdown",
      "source": [
        "We need to compute $\\underset{θ}{\\operatorname{argmax}} ∑_{i=0}^mlog \\ p_{model}(x_i, θ)$ where $p_{model}$ is the distribution of normal variable of parameters $(μ, σ)$."
      ],
      "metadata": {
        "id": "7zRBSWTNBfjV"
      }
    },
    {
      "cell_type": "code",
      "source": [
        "def neg_log_likelihood(params):\n",
        "    mu, sigma = params\n",
        "    if sigma <= 0:\n",
        "        return np.inf\n",
        "    n = len(p_data)\n",
        "    log_likelihood = sum(np.log(1/(sigma * np.sqrt(2 * np.pi)) * np.exp( - (p_data - mu)**2 / (2 * sigma**2) )))\n",
        "    return -log_likelihood"
      ],
      "metadata": {
        "id": "6cA-PvnFiiC-"
      },
      "execution_count": 86,
      "outputs": []
    },
    {
      "cell_type": "code",
      "source": [
        "initial_guess = [0, 1]"
      ],
      "metadata": {
        "id": "fSwd5vTdkx9F"
      },
      "execution_count": 94,
      "outputs": []
    },
    {
      "cell_type": "code",
      "source": [
        "mu_est, sigma_est = fmin(neg_log_likelihood, initial_guess, xtol=1e-6, maxfun=1000, maxiter=1000)"
      ],
      "metadata": {
        "colab": {
          "base_uri": "https://localhost:8080/"
        },
        "id": "UgVjNqPLlAya",
        "outputId": "edeea001-a26b-4831-dd23-da05e33830f4"
      },
      "execution_count": 95,
      "outputs": [
        {
          "output_type": "stream",
          "name": "stdout",
          "text": [
            "Optimization terminated successfully.\n",
            "         Current function value: 62.503859\n",
            "         Iterations: 91\n",
            "         Function evaluations: 174\n"
          ]
        }
      ]
    },
    {
      "cell_type": "code",
      "source": [
        "print(f'mu estimate: {mu_est}\\nsigma estimate: {sigma_est}')"
      ],
      "metadata": {
        "colab": {
          "base_uri": "https://localhost:8080/"
        },
        "id": "ln8AF8SnlOEc",
        "outputId": "5b23416f-6570-4bc4-8849-9b9f61d61bab"
      },
      "execution_count": 97,
      "outputs": [
        {
          "output_type": "stream",
          "name": "stdout",
          "text": [
            "mu estimate: 5.015350968326025\n",
            "sigma estimate: 0.4520784114098218\n"
          ]
        }
      ]
    }
  ]
}